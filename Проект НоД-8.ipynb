{
 "cells": [
  {
   "cell_type": "markdown",
   "id": "206e67fe",
   "metadata": {},
   "source": [
    "# Привет!\n",
    "#### Это мой проект по здравоохранению. Он состоит из 3х частей:\n",
    "* __Российское здравоохранение__\n",
    "* __Сравнение с международным__\n",
    "* __Приложение в streamlit__\n",
    "\n",
    "#### Для начала сделаем наш список источников и загрузим наши данные"
   ]
  },
  {
   "cell_type": "markdown",
   "id": "17ef6231",
   "metadata": {},
   "source": [
    "* \thttps://www.ffoms.gov.ru/documents/registry/?region=362&rgn= __(Парсинг selenium)__\n",
    "*\thttps://rosstat.gov.ru/folder/13721 __(Напрямую скачивать)__\n",
    "*\thttps://www.fedstat.ru __(Напрямую скачивать)__\n",
    "*\thttps://www.newsweek.com/worlds-best-hospitals-2022 __(Парсинг)__\n",
    "*\thttps://worldpopulationreview.com/country-rankings/best-healthcare-in-the-world\n",
    "*\thttps://www.oecd.org __(API)__\n",
    "*   https://www.worldbank.org/en/home __(API+Парсинг напрямую)__\n",
    "*   https://www.healthdata.org/gbd/2019 __(Напрямую скачивать)__\n",
    "*   https://vademec.ru/download/top200clinics2021.pdf __(Парсинг PDF)__\n",
    "*   https://healthdata.gov\n",
    "*   https://mosgorzdrav.ru/ru-RU/metricks/default/index.html?group_id=1\n",
    "*   https://data.mos.ru/opendata"
   ]
  },
  {
   "cell_type": "code",
   "execution_count": 1,
   "id": "c6abb647",
   "metadata": {},
   "outputs": [],
   "source": [
    "import pandas as pd\n",
    "import numpy as np\n",
    "import math\n",
    "import requests\n",
    "from selenium import webdriver\n",
    "from selenium.webdriver.common.by import By\n",
    "from selenium.webdriver.support.ui import Select\n",
    "from bs4 import BeautifulSoup\n",
    "import json\n",
    "import re\n",
    "import geopandas\n",
    "from shapely.geometry import Polygon\n",
    "import geopandas as gpd\n",
    "import folium\n",
    "import matplotlib.pyplot as plt\n",
    "import datetime as dt\n",
    "import pandas_datareader.data as web\n",
    "import wbgapi as wb\n",
    "from webdriver_manager.chrome import ChromeDriverManager"
   ]
  },
  {
   "cell_type": "markdown",
   "id": "5df0245d",
   "metadata": {},
   "source": [
    "### Москва и Санкт-Петербург\n",
    "Доделать Санкт-Петербург, довести все до логичного финала"
   ]
  },
  {
   "cell_type": "code",
   "execution_count": 2,
   "id": "6d75753c",
   "metadata": {},
   "outputs": [],
   "source": [
    "def fs(x):\n",
    "    return x.apply(lambda z: z.split(',')[0].strip())"
   ]
  },
  {
   "cell_type": "code",
   "execution_count": 3,
   "id": "edd89a1b",
   "metadata": {},
   "outputs": [
    {
     "name": "stdout",
     "output_type": "stream",
     "text": [
      "\n"
     ]
    },
    {
     "name": "stderr",
     "output_type": "stream",
     "text": [
     ]
    }
   ],
   "source": [
    "browser = webdriver.Chrome(ChromeDriverManager().install())\n",
    "browser.get('https://www.ffoms.gov.ru/documents/registry/?region=362&rgn=')\n",
    "l=browser.find_element(By.CLASS_NAME, \"btn-success\")\n",
    "l.click()\n",
    "browser.get('https://www.ffoms.gov.ru/documents/registry/data.php')\n",
    "moscow_soup = BeautifulSoup(browser.page_source)\n",
    "moscow_raw=moscow_soup.body.get_text()\n",
    "browser.get('https://www.ffoms.gov.ru/documents/registry/?region=362&rgn=')\n",
    "select = Select(browser.find_element_by_id('selectRgnId'))\n",
    "select.select_by_visible_text('г. Санкт-Петербург')\n",
    "l=browser.find_element(By.CLASS_NAME, \"btn-success\")\n",
    "l.click()\n",
    "browser.get('https://www.ffoms.gov.ru/documents/registry/data.php')\n",
    "spb_soup = BeautifulSoup(browser.page_source)\n",
    "spb_raw=spb_soup.body.get_text()"
   ]
  },
  {
   "cell_type": "code",
   "execution_count": 4,
   "id": "31f563cc",
   "metadata": {},
   "outputs": [],
   "source": [
    "def data_clean(moscow_raw):\n",
    "    moscow_raw=moscow_raw[61:len(moscow_raw)-2]\n",
    "    for i in re.findall('balloonContent\": \".+\", \"c', moscow_raw):\n",
    "        j=i[18:len(i)-5].replace('\"',\"'\")\n",
    "        moscow_raw=moscow_raw.replace(i[18:len(i)-5],j)\n",
    "    for i in re.findall('\"clusterCaption\": \".+\", \"h', moscow_raw):\n",
    "        j=i[19:len(i)-5].replace('\"',\"'\")\n",
    "        moscow_raw=moscow_raw.replace(i[19:len(i)-5],j)\n",
    "    for i in re.findall('\"hintContent\": \".+\"', moscow_raw):\n",
    "        j=i[16:len(i)-2].replace('\"',\"'\")\n",
    "        moscow_raw=moscow_raw.replace(i[16:len(i)-2],j)\n",
    "    moscow_raw=moscow_raw.replace('\\\\','')\n",
    "    moscow_dataset={'hospitals':[]}\n",
    "    for i in moscow_raw.split('\\n'):\n",
    "        if len(i.strip())>1:\n",
    "            moscow_dataset['hospitals'].append(json.loads(i.strip().strip(',').strip()))\n",
    "    moscow_dataset=json.loads(json.dumps(moscow_dataset))\n",
    "    return moscow_dataset"
   ]
  },
  {
   "cell_type": "code",
   "execution_count": 5,
   "id": "b65beef4",
   "metadata": {},
   "outputs": [],
   "source": [
    "def concat(df):\n",
    "    x=[]\n",
    "    for i in df['Виды медицинской помощи']:\n",
    "        x.extend(str(i).split(','))\n",
    "    while 'nan' in x:\n",
    "        x.remove('nan')\n",
    "    if 'nan' not in x:\n",
    "        return list(set(x))\n",
    "    else:\n",
    "        print(x)\n",
    "        return None"
   ]
  },
  {
   "cell_type": "code",
   "execution_count": 6,
   "id": "3495b3ab",
   "metadata": {},
   "outputs": [],
   "source": [
    "def make_df(moscow_dataset):\n",
    "    moscow_df=[]\n",
    "    for i in moscow_dataset['hospitals']:\n",
    "        moscow_df.append([i['id'],i['geometry']['coordinates'][1],i['geometry']['coordinates'][0] ,i['properties']['balloonContent'],i['properties']['hintContent']])\n",
    "    moscow_df=pd.DataFrame(moscow_df, columns=['id','lon','lat', 'name+adress', 'name'])\n",
    "    moscow_df=gpd.GeoDataFrame(moscow_df, geometry = gpd.points_from_xy(moscow_df['lon'], moscow_df['lat']))\n",
    "    moscow_df['name'] = moscow_df['name'].str.replace(\"'\",'\"')\n",
    "    return moscow_df"
   ]
  },
  {
   "cell_type": "code",
   "execution_count": 7,
   "id": "9192fedc",
   "metadata": {},
   "outputs": [],
   "source": [
    "spb_dataset=data_clean(spb_raw)\n",
    "moscow_dataset=data_clean(moscow_raw)\n",
    "moscow_df=make_df(moscow_dataset)\n",
    "spb_df=make_df(spb_dataset)"
   ]
  },
  {
   "cell_type": "code",
   "execution_count": 8,
   "id": "4553ffe8",
   "metadata": {},
   "outputs": [],
   "source": [
    "classification=pd.read_excel('V008 Вид мед.помощи.xlsx')\n",
    "classification=classification[['IDVMP', 'VMPNAME']].set_index('IDVMP').to_dict()['VMPNAME']"
   ]
  },
  {
   "cell_type": "code",
   "execution_count": 9,
   "id": "0ecda3f1",
   "metadata": {},
   "outputs": [],
   "source": [
    "def make_class(df1,df2, classification):\n",
    "    df1=df1[['Полное наименование медицинской организации', 'Виды медицинской помощи']]\n",
    "    df1=df1.groupby('Полное наименование медицинской организации').apply(concat)\n",
    "    df1=pd.DataFrame(df1)\n",
    "    df3=df2.set_index('name').join(df1, how='left')\n",
    "    df3=df1.reset_index().dropna()\n",
    "    for i in df3[0]:\n",
    "        for j in range(len(i)):\n",
    "            i[j]=classification[int(i[j])]\n",
    "    return df3"
   ]
  },
  {
   "cell_type": "code",
   "execution_count": 10,
   "id": "d6259068",
   "metadata": {},
   "outputs": [],
   "source": [
    "russia_data=pd.read_excel('МО-Портал-5.xls')\n",
    "moscow_type_raw=russia_data[russia_data['Наименование субъекта Российской Федерации']=='г. Москва']\n",
    "moscow_type_raw=moscow_type_raw[(fs(moscow_type_raw['Адрес (место) нахождения МО'])=='Г. МОСКВА')|(fs(moscow_type_raw['Адрес (место) нахождения МО'])=='Г.МОСКВА')]\n",
    "moscow_df_with_classes=make_class(moscow_type_raw,moscow_df, classification )"
   ]
  },
  {
   "cell_type": "code",
   "execution_count": 11,
   "id": "38cecae4",
   "metadata": {},
   "outputs": [
    {
     "name": "stdout",
     "output_type": "stream",
     "text": [
      "           Полное наименование медицинской организации  \\\n",
      "0    АВТОНОМНАЯ НЕКОММЕРЧЕСКАЯ ОРГАНИЗАЦИЯ \"МЕДИЦИН...   \n",
      "1    АВТОНОМНАЯ НЕКОММЕРЧЕСКАЯ ОРГАНИЗАЦИЯ \"МЕДИЦИН...   \n",
      "2    АВТОНОМНАЯ НЕКОММЕРЧЕСКАЯ ОРГАНИЗАЦИЯ «МЕДИЦИН...   \n",
      "3          АКЦИОНЕРНОЕ ОБЩЕСТВО \"АДМИРАЛТЕЙСКИЕ ВЕРФИ\"   \n",
      "4              АКЦИОНЕРНОЕ ОБЩЕСТВО \"БАЛТИЙСКИЙ ЗАВОД\"   \n",
      "..                                                 ...   \n",
      "367  ФЕДЕРАЛЬНОЕ ГОСУДАРСТВЕННОЕ КАЗЕННОЕ УЧРЕЖДЕНИ...   \n",
      "368  ФЕДЕРАЛЬНОЕ ГОСУДАРСТВЕННОЕ КАЗЕННОЕ УЧРЕЖДЕНИ...   \n",
      "369  ФЕДЕРАЛЬНОЕ КАЗЕННОЕ УЧРЕЖДЕНИЕ ЗДРАВООХРАНЕНИ...   \n",
      "370     ЧАСТНОЕ МЕДИЦИНСКОЕ УЧРЕЖДЕНИЕ \"ЕВРОМЕДСЕРВИС\"   \n",
      "371  ЧАСТНОЕ УЧРЕЖДЕНИЕ ЗДРАВООХРАНЕНИЯ \"КЛИНИЧЕСКА...   \n",
      "\n",
      "                                                     0  \n",
      "0    [первичная специализированная медико-санитарна...  \n",
      "1    [первичная специализированная медико-санитарна...  \n",
      "2    [первичная специализированная медико-санитарна...  \n",
      "3    [первичная специализированная медико-санитарна...  \n",
      "4    [первичная специализированная медико-санитарна...  \n",
      "..                                                 ...  \n",
      "367  [первичная специализированная медико-санитарна...  \n",
      "368  [первичная специализированная медико-санитарна...  \n",
      "369  [первичная специализированная медико-санитарна...  \n",
      "370  [первичная специализированная медико-санитарна...  \n",
      "371  [первичная специализированная медико-санитарна...  \n",
      "\n",
      "[372 rows x 2 columns]\n"
     ]
    }
   ],
   "source": [
    "spb_type_raw=russia_data[russia_data['Наименование субъекта Российской Федерации']=='г. Санкт-Петербург']\n",
    "spb_type_raw=spb_type_raw[ (fs(spb_type_raw['Адрес (место) нахождения МО'])=='САНКТ-ПЕТЕРБУРГ')| (fs(spb_type_raw['Адрес (место) нахождения МО'])=='САНКТ-ПЕТЕРБУРГ Г')|( fs(spb_type_raw['Адрес (место) нахождения МО'])=='САНКТ-ПЕТЕРПУРГ' )| (fs(spb_type_raw['Адрес (место) нахождения МО'])=='САНКТ-ПЕТЕРБУРГ ГОРОД')]\n",
    "spb_df_with_classes=make_class(spb_type_raw,spb_df, classification)\n",
    "print(spb_df_with_classes)"
   ]
  },
  {
   "cell_type": "markdown",
   "id": "e9f59ea9",
   "metadata": {},
   "source": [
    "### Мир"
   ]
  },
  {
   "cell_type": "code",
   "execution_count": 12,
   "id": "c39fe671",
   "metadata": {},
   "outputs": [],
   "source": [
    "datasets=['SP.POP.TOTL','NY.GDP.PCAP.CD', 'SH.XPD.CHEX.PC.CD','EN.ATM.CO2E.PC', 'NV.AGR.TOTL.ZS', 'SP.DYN.CBRT.IN', 'SP.DYN.LE00.IN' ]\n",
    "data=wb.data.DataFrame(datasets, time=range(2000,2019))"
   ]
  },
  {
   "cell_type": "code",
   "execution_count": 13,
   "id": "a83c8202",
   "metadata": {},
   "outputs": [
    {
     "name": "stdout",
     "output_type": "stream",
     "text": [
      "                                 YR2000        YR2001        YR2002  \\\n",
      "economy series                                                        \n",
      "ABW     EN.ATM.CO2E.PC              NaN           NaN           NaN   \n",
      "        NV.AGR.TOTL.ZS     4.100218e-01  4.051498e-01  4.022158e-01   \n",
      "        NY.GDP.PCAP.CD     2.061775e+04  2.067037e+04  2.043689e+04   \n",
      "        SH.XPD.CHEX.PC.CD           NaN           NaN           NaN   \n",
      "        SP.DYN.CBRT.IN     1.417300e+01  1.376200e+01  1.337500e+01   \n",
      "...                                 ...           ...           ...   \n",
      "ZWE     NY.GDP.PCAP.CD     5.630575e+02  5.683863e+02  5.305304e+02   \n",
      "        SH.XPD.CHEX.PC.CD           NaN           NaN           NaN   \n",
      "        SP.DYN.CBRT.IN     3.177600e+01  3.196300e+01  3.227400e+01   \n",
      "        SP.DYN.LE00.IN     4.464900e+01  4.401000e+01  4.352300e+01   \n",
      "        SP.POP.TOTL        1.188148e+07  1.192391e+07  1.195429e+07   \n",
      "\n",
      "                                 YR2003        YR2004        YR2005  \\\n",
      "economy series                                                        \n",
      "ABW     EN.ATM.CO2E.PC              NaN           NaN           NaN   \n",
      "        NV.AGR.TOTL.ZS     4.013820e-01  3.916520e-01  3.866731e-01   \n",
      "        NY.GDP.PCAP.CD     2.083398e+04  2.256837e+04  2.330074e+04   \n",
      "        SH.XPD.CHEX.PC.CD           NaN           NaN           NaN   \n",
      "        SP.DYN.CBRT.IN     1.301000e+01  1.266700e+01  1.234800e+01   \n",
      "...                                 ...           ...           ...   \n",
      "ZWE     NY.GDP.PCAP.CD     4.780076e+02  4.829985e+02  4.765554e+02   \n",
      "        SH.XPD.CHEX.PC.CD           NaN           NaN           NaN   \n",
      "        SP.DYN.CBRT.IN     3.269400e+01  3.319600e+01  3.376400e+01   \n",
      "        SP.DYN.LE00.IN     4.319500e+01  4.306500e+01  4.324100e+01   \n",
      "        SP.POP.TOTL        1.198222e+07  1.201991e+07  1.207670e+07   \n",
      "\n",
      "                                 YR2006        YR2007        YR2008  \\\n",
      "economy series                                                        \n",
      "ABW     EN.ATM.CO2E.PC              NaN           NaN           NaN   \n",
      "        NV.AGR.TOTL.ZS     3.937558e-01  4.052339e-01  3.807285e-01   \n",
      "        NY.GDP.PCAP.CD     2.404623e+04  2.583411e+04  2.708363e+04   \n",
      "        SH.XPD.CHEX.PC.CD           NaN           NaN           NaN   \n",
      "        SP.DYN.CBRT.IN     1.205300e+01  1.178800e+01  1.155600e+01   \n",
      "...                                 ...           ...           ...   \n",
      "ZWE     NY.GDP.PCAP.CD     4.478547e+02  4.317873e+02  3.566932e+02   \n",
      "        SH.XPD.CHEX.PC.CD           NaN           NaN           NaN   \n",
      "        SP.DYN.CBRT.IN     3.438400e+01  3.502100e+01  3.562400e+01   \n",
      "        SP.DYN.LE00.IN     4.385300e+01  4.494700e+01  4.650400e+01   \n",
      "        SP.POP.TOTL        1.215550e+07  1.225592e+07  1.237955e+07   \n",
      "\n",
      "                                 YR2009        YR2010        YR2011  \\\n",
      "economy series                                                        \n",
      "ABW     EN.ATM.CO2E.PC              NaN           NaN           NaN   \n",
      "        NV.AGR.TOTL.ZS     4.403979e-01           NaN           NaN   \n",
      "        NY.GDP.PCAP.CD     2.463118e+04  2.351353e+04  2.498501e+04   \n",
      "        SH.XPD.CHEX.PC.CD           NaN           NaN           NaN   \n",
      "        SP.DYN.CBRT.IN     1.136100e+01  1.121400e+01  1.112300e+01   \n",
      "...                                 ...           ...           ...   \n",
      "ZWE     NY.GDP.PCAP.CD     7.715990e+02  9.483315e+02  1.093653e+03   \n",
      "        SH.XPD.CHEX.PC.CD           NaN  9.934856e+01  8.838670e+01   \n",
      "        SP.DYN.CBRT.IN     3.613400e+01  3.646400e+01  3.652600e+01   \n",
      "        SP.DYN.LE00.IN     4.844900e+01  5.064000e+01  5.289600e+01   \n",
      "        SP.POP.TOTL        1.252696e+07  1.269773e+07  1.289432e+07   \n",
      "\n",
      "                                 YR2012        YR2013        YR2014  \\\n",
      "economy series                                                        \n",
      "ABW     EN.ATM.CO2E.PC              NaN           NaN           NaN   \n",
      "        NV.AGR.TOTL.ZS              NaN           NaN           NaN   \n",
      "        NY.GDP.PCAP.CD     2.471249e+04  2.644162e+04  2.689301e+04   \n",
      "        SH.XPD.CHEX.PC.CD           NaN           NaN           NaN   \n",
      "        SP.DYN.CBRT.IN     1.109000e+01  1.111100e+01  1.117900e+01   \n",
      "...                                 ...           ...           ...   \n",
      "ZWE     NY.GDP.PCAP.CD     1.304968e+03  1.429998e+03  1.434896e+03   \n",
      "        SH.XPD.CHEX.PC.CD  9.028308e+01  1.016749e+02  1.167105e+02   \n",
      "        SP.DYN.CBRT.IN     3.629200e+01  3.576800e+01  3.497800e+01   \n",
      "        SP.DYN.LE00.IN     5.503200e+01  5.689700e+01  5.841000e+01   \n",
      "        SP.POP.TOTL        1.311515e+07  1.335038e+07  1.358671e+07   \n",
      "\n",
      "                                 YR2015        YR2016        YR2017  \\\n",
      "economy series                                                        \n",
      "ABW     EN.ATM.CO2E.PC              NaN           NaN           NaN   \n",
      "        NV.AGR.TOTL.ZS              NaN           NaN           NaN   \n",
      "        NY.GDP.PCAP.CD     2.839691e+04  2.845217e+04  2.935081e+04   \n",
      "        SH.XPD.CHEX.PC.CD           NaN           NaN           NaN   \n",
      "        SP.DYN.CBRT.IN     1.128100e+01  1.140400e+01  1.153200e+01   \n",
      "...                                 ...           ...           ...   \n",
      "ZWE     NY.GDP.PCAP.CD     1.445070e+03  1.464589e+03  1.235189e+03   \n",
      "        SH.XPD.CHEX.PC.CD  1.076870e+02  1.124114e+02  1.156462e+02   \n",
      "        SP.DYN.CBRT.IN     3.398100e+01  3.286400e+01  3.173200e+01   \n",
      "        SP.DYN.LE00.IN     5.953400e+01  6.029400e+01  6.081200e+01   \n",
      "        SP.POP.TOTL        1.381464e+07  1.403034e+07  1.423660e+07   \n",
      "\n",
      "                                 YR2018  \n",
      "economy series                           \n",
      "ABW     EN.ATM.CO2E.PC              NaN  \n",
      "        NV.AGR.TOTL.ZS              NaN  \n",
      "        NY.GDP.PCAP.CD     3.025328e+04  \n",
      "        SH.XPD.CHEX.PC.CD           NaN  \n",
      "        SP.DYN.CBRT.IN     1.165200e+01  \n",
      "...                                 ...  \n",
      "ZWE     NY.GDP.PCAP.CD     1.254642e+03  \n",
      "        SH.XPD.CHEX.PC.CD  1.413693e+02  \n",
      "        SP.DYN.CBRT.IN     3.067600e+01  \n",
      "        SP.DYN.LE00.IN     6.119500e+01  \n",
      "        SP.POP.TOTL        1.443881e+07  \n",
      "\n",
      "[1862 rows x 19 columns]\n"
     ]
    }
   ],
   "source": [
    "data1=pd.melt(data.reset_index(), id_vars=['series','economy'], value_vars=list(data.columns))\n",
    "data1=pd.pivot(data1,index=['economy','variable'],columns='series').reset_index().dropna()\n",
    "data_for_regression=data1['value']\n",
    "data_for_visualizations=data\n",
    "print(data)"
   ]
  },
  {
   "cell_type": "code",
   "execution_count": 15,
   "id": "16c20705",
   "metadata": {},
   "outputs": [],
   "source": [
    "#import telebot\n",
    "# Создаем экземпляр бота\n",
    "#bot = telebot.TeleBot('5437613672:AAFNSAwxRIF5FBLZFM3i3S8kQlxKsKoZY8s')\n",
    "# Функция, обрабатывающая команду /start\n",
    "#@bot.message_handler(commands=[\"start\"])\n",
    "#def start(m, res=False):\n",
    "    #bot.send_message(m.chat.id, 'Я на связи. Напиши мне что-нибудь )')\n",
    "# Получение сообщений от юзера\n",
    "#@bot.message_handler(content_types=[\"text\"])\n",
    "#def handle_text(message):\n",
    "    #bot.send_message(message.chat.id, 'Вы написали: ' + message.text)\n",
    "# Запускаем бота\n",
    "#bot.polling(none_stop=True, interval=0)"
   ]
  },
  {
   "cell_type": "code",
   "execution_count": null,
   "id": "45b9eec8",
   "metadata": {},
   "outputs": [],
   "source": []
  }
 ],
 "metadata": {
  "kernelspec": {
   "display_name": "Python 3 (ipykernel)",
   "language": "python",
   "name": "python3"
  },
  "language_info": {
   "codemirror_mode": {
    "name": "ipython",
    "version": 3
   },
   "file_extension": ".py",
   "mimetype": "text/x-python",
   "name": "python",
   "nbconvert_exporter": "python",
   "pygments_lexer": "ipython3",
   "version": "3.9.7"
  }
 },
 "nbformat": 4,
 "nbformat_minor": 5
}
